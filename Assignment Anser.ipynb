{
 "cells": [
  {
   "cell_type": "raw",
   "id": "63360a7c-ab4d-4bab-85dd-edd7bcfc8b4a",
   "metadata": {},
   "source": [
    "PUTHON \n",
    "        WEEK 1\n",
    "                ASSIGNMENT SOLUTION\n",
    "                                    BY-SADDAM ANSARI\n",
    "                                                      FOR PW SKILLS "
   ]
  },
  {
   "cell_type": "markdown",
   "id": "1bcce69e-dc02-4c90-9aa1-fe63a24ad4b4",
   "metadata": {},
   "source": [
    "Q1. Create one variable containing following type of data:\n",
    "(i) string\n",
    "(ii) list\n",
    "(iii) float\n",
    "(iv) tuple\n"
   ]
  },
  {
   "cell_type": "code",
   "execution_count": 1,
   "id": "558de43d-0d69-4f4e-93b7-fad34b710542",
   "metadata": {},
   "outputs": [],
   "source": [
    "#strin\n",
    "a='saddam ansari'"
   ]
  },
  {
   "cell_type": "code",
   "execution_count": 2,
   "id": "ff3c93d4-3fda-4bc8-a6be-b290373538e6",
   "metadata": {},
   "outputs": [
    {
     "data": {
      "text/plain": [
       "'saddam ansari'"
      ]
     },
     "execution_count": 2,
     "metadata": {},
     "output_type": "execute_result"
    }
   ],
   "source": [
    "a"
   ]
  },
  {
   "cell_type": "code",
   "execution_count": 6,
   "id": "cdb2661e-7b37-4355-99ac-a098fdfbe8ee",
   "metadata": {},
   "outputs": [
    {
     "data": {
      "text/plain": [
       "str"
      ]
     },
     "execution_count": 6,
     "metadata": {},
     "output_type": "execute_result"
    }
   ],
   "source": [
    "type(a)"
   ]
  },
  {
   "cell_type": "code",
   "execution_count": 3,
   "id": "79e771cf-1621-45ff-b941-44907e6174e8",
   "metadata": {},
   "outputs": [],
   "source": [
    "#list\n",
    "b=[1,2,3,4,5,'saddam','ansari','pwskills',223.4,True]"
   ]
  },
  {
   "cell_type": "code",
   "execution_count": 4,
   "id": "f9168f46-063d-4d23-8bb2-b5467a47edcb",
   "metadata": {},
   "outputs": [
    {
     "data": {
      "text/plain": [
       "[1, 2, 3, 4, 5, 'saddam', 'ansari', 'pwskills', 223.4, True]"
      ]
     },
     "execution_count": 4,
     "metadata": {},
     "output_type": "execute_result"
    }
   ],
   "source": [
    "b"
   ]
  },
  {
   "cell_type": "code",
   "execution_count": 5,
   "id": "6dff9b54-4ef1-459e-b6a3-a3093b236d5f",
   "metadata": {},
   "outputs": [
    {
     "data": {
      "text/plain": [
       "list"
      ]
     },
     "execution_count": 5,
     "metadata": {},
     "output_type": "execute_result"
    }
   ],
   "source": [
    "type(b)"
   ]
  },
  {
   "cell_type": "code",
   "execution_count": 7,
   "id": "2d45e2d2-53d4-498d-93d3-c783a8f9791c",
   "metadata": {},
   "outputs": [],
   "source": [
    "#float\n",
    "c=33.43"
   ]
  },
  {
   "cell_type": "code",
   "execution_count": 8,
   "id": "64d043c4-0c37-4db2-b75c-ab558b99d4af",
   "metadata": {},
   "outputs": [
    {
     "data": {
      "text/plain": [
       "33.43"
      ]
     },
     "execution_count": 8,
     "metadata": {},
     "output_type": "execute_result"
    }
   ],
   "source": [
    "c"
   ]
  },
  {
   "cell_type": "code",
   "execution_count": 9,
   "id": "f7dfdc46-e282-487d-aa5f-720ca55741ad",
   "metadata": {},
   "outputs": [
    {
     "data": {
      "text/plain": [
       "float"
      ]
     },
     "execution_count": 9,
     "metadata": {},
     "output_type": "execute_result"
    }
   ],
   "source": [
    "type(c)"
   ]
  },
  {
   "cell_type": "code",
   "execution_count": 10,
   "id": "f60443e2-c6ff-44b5-850e-07e96f4f568f",
   "metadata": {},
   "outputs": [],
   "source": [
    "#tuple"
   ]
  },
  {
   "cell_type": "code",
   "execution_count": 11,
   "id": "df8ed572-5b13-4b22-bb26-524e78e65ede",
   "metadata": {},
   "outputs": [],
   "source": [
    "d=(1,2,3,4,5,'saddam','ansari','pwskills',55.2,True)"
   ]
  },
  {
   "cell_type": "code",
   "execution_count": 12,
   "id": "776c01aa-98ed-4f43-b07d-aed0afa2d4dc",
   "metadata": {},
   "outputs": [
    {
     "data": {
      "text/plain": [
       "(1, 2, 3, 4, 5, 'saddam', 'ansari', 'pwskills', 55.2, True)"
      ]
     },
     "execution_count": 12,
     "metadata": {},
     "output_type": "execute_result"
    }
   ],
   "source": [
    "d"
   ]
  },
  {
   "cell_type": "code",
   "execution_count": 13,
   "id": "9367ed99-8e5d-45c5-90be-944bd51ee1de",
   "metadata": {},
   "outputs": [
    {
     "data": {
      "text/plain": [
       "tuple"
      ]
     },
     "execution_count": 13,
     "metadata": {},
     "output_type": "execute_result"
    }
   ],
   "source": [
    "type(d)"
   ]
  },
  {
   "cell_type": "markdown",
   "id": "7fb2d3e0-4c5d-408b-b34c-1e22ef38d7b3",
   "metadata": {},
   "source": [
    "Q2. Given are some following variables containing data:\n",
    "(i) var1 = ‘ ‘\n",
    "(ii) var2 = ‘[ DS , ML , Python]’\n",
    "(iii) var3 = [ ‘DS’ , ’ML’ , ‘Python’ ]\n",
    "(iv) var4 = 1.\n",
    "What will be the data type of the above given variable."
   ]
  },
  {
   "cell_type": "code",
   "execution_count": 14,
   "id": "a4216070-1d70-41cb-9897-254d22683cdb",
   "metadata": {},
   "outputs": [],
   "source": [
    "#1\n",
    "var1=''"
   ]
  },
  {
   "cell_type": "code",
   "execution_count": 15,
   "id": "aef683cf-5088-4f8b-b57b-f371892a24b0",
   "metadata": {},
   "outputs": [
    {
     "data": {
      "text/plain": [
       "str"
      ]
     },
     "execution_count": 15,
     "metadata": {},
     "output_type": "execute_result"
    }
   ],
   "source": [
    "type(var1)"
   ]
  },
  {
   "cell_type": "code",
   "execution_count": 16,
   "id": "6313f1bb-83e7-4441-9711-fe75194ca8c6",
   "metadata": {},
   "outputs": [],
   "source": [
    "#2\n",
    "var2='[DS,ML,PYTHON]'"
   ]
  },
  {
   "cell_type": "code",
   "execution_count": 17,
   "id": "f0ed4209-203e-4bb0-95ba-3e66fa0b7850",
   "metadata": {},
   "outputs": [
    {
     "data": {
      "text/plain": [
       "str"
      ]
     },
     "execution_count": 17,
     "metadata": {},
     "output_type": "execute_result"
    }
   ],
   "source": [
    "type(var2)"
   ]
  },
  {
   "cell_type": "code",
   "execution_count": 18,
   "id": "58bd44e9-1542-4467-9a49-880b7c29c673",
   "metadata": {},
   "outputs": [],
   "source": [
    "#3\n",
    "var3=['DS','ML','Python']"
   ]
  },
  {
   "cell_type": "code",
   "execution_count": 19,
   "id": "13339e8a-4adc-4b1a-a813-af751d718c65",
   "metadata": {},
   "outputs": [
    {
     "data": {
      "text/plain": [
       "list"
      ]
     },
     "execution_count": 19,
     "metadata": {},
     "output_type": "execute_result"
    }
   ],
   "source": [
    "type(var3)"
   ]
  },
  {
   "cell_type": "code",
   "execution_count": 20,
   "id": "0178c2be-dd67-4463-8639-163b05baea70",
   "metadata": {},
   "outputs": [],
   "source": [
    "#4\n",
    "var4=1"
   ]
  },
  {
   "cell_type": "code",
   "execution_count": 21,
   "id": "f52e4f2c-fd34-498d-b02d-0c355c143bba",
   "metadata": {},
   "outputs": [
    {
     "data": {
      "text/plain": [
       "int"
      ]
     },
     "execution_count": 21,
     "metadata": {},
     "output_type": "execute_result"
    }
   ],
   "source": [
    "type(var4)"
   ]
  },
  {
   "cell_type": "markdown",
   "id": "125e29e5-2ba2-440a-a89c-35716a129339",
   "metadata": {},
   "source": [
    "Q3. Explain the use of the following operators using an example:\n",
    "(i) /\n",
    "(ii) %\n",
    "(iii) //\n",
    "(iv) **"
   ]
  },
  {
   "cell_type": "raw",
   "id": "16c61d02-e6b8-4678-9854-fb35c567658e",
   "metadata": {},
   "source": [
    "The '/' operator in Python is used for division. It performs floating-point division, meaning it returns the quotient as a floating-point number. "
   ]
  },
  {
   "cell_type": "code",
   "execution_count": 26,
   "id": "79fdad73-e695-40c3-947f-cd9e465ac036",
   "metadata": {},
   "outputs": [
    {
     "name": "stdout",
     "output_type": "stream",
     "text": [
      "3.3333333333333335\n"
     ]
    }
   ],
   "source": [
    "#1. /\n",
    "x = 10\n",
    "y = 3\n",
    "result = x / y\n",
    "print(result)"
   ]
  },
  {
   "cell_type": "markdown",
   "id": "44fc7211-3d5f-4df2-8842-bf8847b82d7e",
   "metadata": {},
   "source": [
    "The '%' operator in Python is called the modulo or remainder operator. It returns the remainder of the division between two numbers. "
   ]
  },
  {
   "cell_type": "code",
   "execution_count": 27,
   "id": "5f79bdab-7c01-452a-9eab-8b8be0ed2ccb",
   "metadata": {},
   "outputs": [
    {
     "name": "stdout",
     "output_type": "stream",
     "text": [
      "1\n"
     ]
    }
   ],
   "source": [
    "#2. %\n",
    "x = 10\n",
    "y = 3\n",
    "result = x % y\n",
    "print(result)"
   ]
  },
  {
   "cell_type": "raw",
   "id": "93664a6c-ac9c-42b9-9874-0f0fe51accdd",
   "metadata": {},
   "source": [
    "The '//' operator in Python is known as the floor division operator. It performs division similar to the '/' operator, but it returns the quotient rounded down to the nearest whole number (floor)."
   ]
  },
  {
   "cell_type": "code",
   "execution_count": 29,
   "id": "c3ee5d1e-e038-450f-9e7b-3261eaef79d5",
   "metadata": {},
   "outputs": [
    {
     "name": "stdout",
     "output_type": "stream",
     "text": [
      "3\n"
     ]
    }
   ],
   "source": [
    "#3. //\n",
    "x = 10\n",
    "y = 3\n",
    "result = x // y\n",
    "print(result)"
   ]
  },
  {
   "cell_type": "raw",
   "id": "7e82d706-279a-48c2-bfd1-fdac09152e51",
   "metadata": {},
   "source": [
    "The '**' operator in Python is used for exponentiation or raising a number to a power. It calculates the value of the base raised to the power of the exponent."
   ]
  },
  {
   "cell_type": "code",
   "execution_count": 30,
   "id": "00df5fa3-fed5-4583-8495-59fbe2e8d37c",
   "metadata": {},
   "outputs": [
    {
     "name": "stdout",
     "output_type": "stream",
     "text": [
      "8\n"
     ]
    }
   ],
   "source": [
    "#4. **\n",
    "x = 2\n",
    "y = 3\n",
    "result = x ** y\n",
    "print(result)"
   ]
  },
  {
   "cell_type": "markdown",
   "id": "e997f0ec-aaf5-4e3f-a8dd-9d81f8b8b847",
   "metadata": {},
   "source": [
    "Q4. Create a list of length 10 of your choice containing multiple types of data. Using for loop print the\n",
    "element and its data type."
   ]
  },
  {
   "cell_type": "code",
   "execution_count": 32,
   "id": "f8fc3cbe-035c-4ceb-af06-2160516eec62",
   "metadata": {},
   "outputs": [
    {
     "name": "stdout",
     "output_type": "stream",
     "text": [
      "1\n",
      "<class 'int'>\n",
      "2\n",
      "<class 'int'>\n",
      "3\n",
      "<class 'int'>\n",
      "4\n",
      "<class 'int'>\n",
      "5\n",
      "<class 'int'>\n",
      "saddam\n",
      "<class 'str'>\n",
      "ansari\n",
      "<class 'str'>\n",
      "pwskills\n",
      "<class 'str'>\n",
      "datascience\n",
      "<class 'str'>\n",
      "True\n",
      "<class 'bool'>\n",
      "12.4321\n",
      "<class 'float'>\n"
     ]
    }
   ],
   "source": [
    "l=[1,2,3,4,5,'saddam','ansari','pwskills','datascience',True,12.4321]\n",
    "for i in l:\n",
    "    print(i)\n",
    "    print(type(i))"
   ]
  },
  {
   "cell_type": "markdown",
   "id": "b7d09c5d-fa57-4d42-afee-4c1fe2379300",
   "metadata": {},
   "source": [
    "Q5. Using a while loop, verify if the number A is purely divisible by number B and if so then how many\n",
    "times it can be divisible."
   ]
  },
  {
   "cell_type": "code",
   "execution_count": 33,
   "id": "81b2e460-1cec-478e-8987-b9721aa9fb1f",
   "metadata": {},
   "outputs": [
    {
     "name": "stdout",
     "output_type": "stream",
     "text": [
      "Number of times A is divisible by B: 2\n"
     ]
    }
   ],
   "source": [
    "A = 100\n",
    "B = 5\n",
    "count = 0\n",
    "\n",
    "while A % B == 0:\n",
    "    A = A // B\n",
    "    count += 1\n",
    "\n",
    "print(\"Number of times A is divisible by B:\", count)"
   ]
  },
  {
   "cell_type": "markdown",
   "id": "b361a2c8-07d0-416c-9e7c-7842a7e8c035",
   "metadata": {},
   "source": [
    "Q6. Create a list containing 25 int type data. Using for loop and if-else condition print if the element is\n",
    "divisible by 3 or not."
   ]
  },
  {
   "cell_type": "code",
   "execution_count": 37,
   "id": "6a9da502-4619-4065-a7c2-05de28dbfc9d",
   "metadata": {},
   "outputs": [],
   "source": [
    "my_list=[85,45,12,4,5,15,64,54,215,67,54,125,45,78,652,10,22,154,36,45,485,6541,254,547,65,]"
   ]
  },
  {
   "cell_type": "code",
   "execution_count": 38,
   "id": "3a8704bb-f3e6-40c8-b6d2-a4fcb803c4ca",
   "metadata": {},
   "outputs": [
    {
     "data": {
      "text/plain": [
       "[85,\n",
       " 45,\n",
       " 12,\n",
       " 4,\n",
       " 5,\n",
       " 15,\n",
       " 64,\n",
       " 54,\n",
       " 215,\n",
       " 67,\n",
       " 54,\n",
       " 125,\n",
       " 45,\n",
       " 78,\n",
       " 652,\n",
       " 10,\n",
       " 22,\n",
       " 154,\n",
       " 36,\n",
       " 45,\n",
       " 485,\n",
       " 6541,\n",
       " 254,\n",
       " 547,\n",
       " 65]"
      ]
     },
     "execution_count": 38,
     "metadata": {},
     "output_type": "execute_result"
    }
   ],
   "source": [
    "my_list"
   ]
  },
  {
   "cell_type": "code",
   "execution_count": 39,
   "id": "fd803a6a-73c2-4b94-b03b-cc2ec685219b",
   "metadata": {},
   "outputs": [
    {
     "name": "stdout",
     "output_type": "stream",
     "text": [
      "85 element is not divisible\n",
      "45 element is divisible\n",
      "12 element is divisible\n",
      "4 element is not divisible\n",
      "5 element is not divisible\n",
      "15 element is divisible\n",
      "64 element is not divisible\n",
      "54 element is divisible\n",
      "215 element is not divisible\n",
      "67 element is not divisible\n",
      "54 element is divisible\n",
      "125 element is not divisible\n",
      "45 element is divisible\n",
      "78 element is divisible\n",
      "652 element is not divisible\n",
      "10 element is not divisible\n",
      "22 element is not divisible\n",
      "154 element is not divisible\n",
      "36 element is divisible\n",
      "45 element is divisible\n",
      "485 element is not divisible\n",
      "6541 element is not divisible\n",
      "254 element is not divisible\n",
      "547 element is not divisible\n",
      "65 element is not divisible\n"
     ]
    }
   ],
   "source": [
    "for element in my_list:\n",
    "    if element % 3==0:\n",
    "        print(element,'element is divisible')\n",
    "    else:\n",
    "        print(element,'element is not divisible')"
   ]
  },
  {
   "cell_type": "markdown",
   "id": "b8bd4e51-6591-422a-aed6-6661e08beeb8",
   "metadata": {},
   "source": [
    "Q7. What do you understand about mutable and immutable data types? Give examples for both showing\n",
    "this property."
   ]
  },
  {
   "cell_type": "code",
   "execution_count": 45,
   "id": "80b9f145-265c-4b0b-b5a5-92c1c11ec0ea",
   "metadata": {},
   "outputs": [],
   "source": [
    "#immutabele\n",
    "name='saddam'"
   ]
  },
  {
   "cell_type": "code",
   "execution_count": 41,
   "id": "5a3c92db-a31d-4365-a4fc-3bf10d4ac372",
   "metadata": {},
   "outputs": [
    {
     "data": {
      "text/plain": [
       "'saddam'"
      ]
     },
     "execution_count": 41,
     "metadata": {},
     "output_type": "execute_result"
    }
   ],
   "source": [
    "name"
   ]
  },
  {
   "cell_type": "code",
   "execution_count": 42,
   "id": "ce2f6565-89bb-4967-8e20-c5b899cad1b3",
   "metadata": {},
   "outputs": [
    {
     "data": {
      "text/plain": [
       "'a'"
      ]
     },
     "execution_count": 42,
     "metadata": {},
     "output_type": "execute_result"
    }
   ],
   "source": [
    "name[1]"
   ]
  },
  {
   "cell_type": "code",
   "execution_count": 44,
   "id": "40f696cb-0d49-4921-a7e0-8a7f65eac48c",
   "metadata": {},
   "outputs": [
    {
     "ename": "TypeError",
     "evalue": "'str' object does not support item assignment",
     "output_type": "error",
     "traceback": [
      "\u001b[0;31m---------------------------------------------------------------------------\u001b[0m",
      "\u001b[0;31mTypeError\u001b[0m                                 Traceback (most recent call last)",
      "Cell \u001b[0;32mIn[44], line 1\u001b[0m\n\u001b[0;32m----> 1\u001b[0m \u001b[43mname\u001b[49m\u001b[43m[\u001b[49m\u001b[38;5;241;43m2\u001b[39;49m\u001b[43m]\u001b[49m\u001b[38;5;241m=\u001b[39m\u001b[38;5;124m'\u001b[39m\u001b[38;5;124ms\u001b[39m\u001b[38;5;124m'\u001b[39m \u001b[38;5;66;03m# when i try to change its give a error. because str is a immutable\u001b[39;00m\n",
      "\u001b[0;31mTypeError\u001b[0m: 'str' object does not support item assignment"
     ]
    }
   ],
   "source": [
    "name[2]='s' # when i try to change its give a error. because str is a immutable"
   ]
  },
  {
   "cell_type": "code",
   "execution_count": 47,
   "id": "29a7cc32-ea35-4676-be16-037053bde8b5",
   "metadata": {},
   "outputs": [],
   "source": [
    "#mutable\n",
    "ll=[1,2,3,4,'saddam','data engineer','helps with pw skills']"
   ]
  },
  {
   "cell_type": "code",
   "execution_count": 48,
   "id": "db33ea91-d5fe-43f4-90e3-7a549ec506dc",
   "metadata": {},
   "outputs": [
    {
     "data": {
      "text/plain": [
       "[1, 2, 3, 4, 'saddam', 'data engineer', 'helps with pw skills']"
      ]
     },
     "execution_count": 48,
     "metadata": {},
     "output_type": "execute_result"
    }
   ],
   "source": [
    "ll"
   ]
  },
  {
   "cell_type": "code",
   "execution_count": 49,
   "id": "cde6f7a4-9dc5-446f-a86f-9b618b22fba2",
   "metadata": {},
   "outputs": [
    {
     "data": {
      "text/plain": [
       "3"
      ]
     },
     "execution_count": 49,
     "metadata": {},
     "output_type": "execute_result"
    }
   ],
   "source": [
    "ll[2]"
   ]
  },
  {
   "cell_type": "code",
   "execution_count": 52,
   "id": "de37d117-eddf-41a8-9dda-084eb4e8f8bb",
   "metadata": {},
   "outputs": [],
   "source": [
    "ll[6]='helps by sudhansu sir' #here i want to change a 6 number data to required data its work succesfuly. Thats why its a mutable in nature"
   ]
  },
  {
   "cell_type": "code",
   "execution_count": 51,
   "id": "b32b92cf-540f-4bd0-83cb-b6a4f078cff8",
   "metadata": {},
   "outputs": [
    {
     "data": {
      "text/plain": [
       "[1, 2, 3, 4, 'saddam', 'data engineer', 'helps by sudhansu sir']"
      ]
     },
     "execution_count": 51,
     "metadata": {},
     "output_type": "execute_result"
    }
   ],
   "source": [
    "ll"
   ]
  },
  {
   "cell_type": "raw",
   "id": "c810919f-c243-41ff-8bfc-e1887a19ea79",
   "metadata": {},
   "source": [
    "Saddam Ansari\n",
    "Place-Sahasa\n",
    "Date-05/06/2023"
   ]
  },
  {
   "cell_type": "code",
   "execution_count": null,
   "id": "07f1771a-34eb-4156-aa63-c49581431a31",
   "metadata": {},
   "outputs": [],
   "source": []
  }
 ],
 "metadata": {
  "kernelspec": {
   "display_name": "Python 3 (ipykernel)",
   "language": "python",
   "name": "python3"
  },
  "language_info": {
   "codemirror_mode": {
    "name": "ipython",
    "version": 3
   },
   "file_extension": ".py",
   "mimetype": "text/x-python",
   "name": "python",
   "nbconvert_exporter": "python",
   "pygments_lexer": "ipython3",
   "version": "3.10.8"
  }
 },
 "nbformat": 4,
 "nbformat_minor": 5
}
